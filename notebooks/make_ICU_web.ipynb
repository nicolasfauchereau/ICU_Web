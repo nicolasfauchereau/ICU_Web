{
 "cells": [
  {
   "cell_type": "code",
   "execution_count": 1,
   "id": "ba379ced-2c68-441d-84ee-7f6d4aa659aa",
   "metadata": {},
   "outputs": [],
   "source": [
    "import sys \n",
    "import os "
   ]
  },
  {
   "cell_type": "code",
   "execution_count": 2,
   "id": "5e977211-6e1e-43b9-9d41-e7ccb991bfe7",
   "metadata": {},
   "outputs": [],
   "source": [
    "from datetime import datetime, timedelta\n",
    "from dateparser import parse"
   ]
  },
  {
   "cell_type": "code",
   "execution_count": 3,
   "id": "bc9b8063-5eb2-485e-a8f1-a5dde3f269d2",
   "metadata": {},
   "outputs": [],
   "source": [
    "from pathlib import Path"
   ]
  },
  {
   "cell_type": "code",
   "execution_count": 4,
   "id": "ba5ee8ea-f80e-46cb-ba03-6123533cc6ca",
   "metadata": {},
   "outputs": [],
   "source": [
    "import shutil"
   ]
  },
  {
   "cell_type": "code",
   "execution_count": 5,
   "id": "eb84a75f-2201-4c4a-b5ea-356e9370d396",
   "metadata": {},
   "outputs": [],
   "source": [
    "HOME = Path.home()\n",
    "CWD = Path.cwd()"
   ]
  },
  {
   "cell_type": "markdown",
   "id": "df81b66c-e47f-4676-aef4-f9fdfb5767a7",
   "metadata": {},
   "source": [
    "### small utility to clean up country names "
   ]
  },
  {
   "cell_type": "code",
   "execution_count": 6,
   "id": "3aa49f31-bdc9-46bc-a45f-dd2d2c05aa67",
   "metadata": {},
   "outputs": [],
   "source": [
    "def sanitize_name(name): \n",
    "    \"\"\"\n",
    "    Sanitizes the name of a country \n",
    "\n",
    "    removes all the weird characters \n",
    "\n",
    "    Parameters\n",
    "    ----------\n",
    "    name : str\n",
    "        country name \n",
    "\n",
    "    Returns\n",
    "    -------\n",
    "    str\n",
    "        The Sanitized country name\n",
    "    \"\"\"\n",
    "    name = name.replace('/','')\n",
    "    name = name.replace('  ','_')\n",
    "    name = name.replace('&','')\n",
    "    name= name.replace(' ','_')\n",
    "    name = name.replace(':','_')\n",
    "    name = name.replace('__','_')\n",
    "    name = name.replace(\"'\",\"\")\n",
    "    return name"
   ]
  },
  {
   "cell_type": "markdown",
   "id": "79555062-c4fb-45cb-84f4-59f83b2036cd",
   "metadata": {},
   "source": [
    "### some definitions "
   ]
  },
  {
   "cell_type": "code",
   "execution_count": 7,
   "id": "dbcdd461-e2b2-4805-a580-5446d0054465",
   "metadata": {},
   "outputs": [],
   "source": [
    "days = [30, 60, 90, 180, 360]"
   ]
  },
  {
   "cell_type": "markdown",
   "id": "ed904fdd-a282-4459-b4f7-04558ca61e1a",
   "metadata": {},
   "source": [
    "### list of countries "
   ]
  },
  {
   "cell_type": "code",
   "execution_count": 8,
   "id": "8d79eb9b-d5d6-4be3-8082-9e08fe250781",
   "metadata": {},
   "outputs": [],
   "source": [
    "list_countries = \\\n",
    "['Kiribati_Line_Islands',\n",
    " 'Fiji',\n",
    " 'New_Caledonia',\n",
    " 'Papua_New_Guinea',\n",
    " 'Wallis_Futuna',\n",
    " 'Cook_Islands',\n",
    " 'Solomon_Islands',\n",
    " 'French_Polynesia',\n",
    " 'Palau',\n",
    " 'Tuvalu',\n",
    " 'Vanuatu',\n",
    " 'Pitcairn_Islands',\n",
    " 'American_Samoa',\n",
    " 'Northern_Marianas',\n",
    " 'Niue',\n",
    " 'Guam',\n",
    " 'Samoa',\n",
    " 'Federated_States_of_Micronesia',\n",
    " 'Nauru',\n",
    " 'Kiribati_Phoenix_Islands',\n",
    " 'Tokelau',\n",
    " 'Kiribati_Gilbert_Islands',\n",
    " 'Tonga',\n",
    " 'Marshall_Islands']"
   ]
  },
  {
   "cell_type": "markdown",
   "id": "a5a89681-a90d-4797-98fa-40a08d3e8108",
   "metadata": {},
   "source": [
    "### general path for the GPM-IMERG figures "
   ]
  },
  {
   "cell_type": "code",
   "execution_count": 9,
   "id": "c3de6637-d0bf-420c-8873-7754522d4689",
   "metadata": {},
   "outputs": [],
   "source": [
    "fig_path_GPM = HOME.joinpath('operational/ICU/development/hotspots/figures/GPM_IMERG')"
   ]
  },
  {
   "cell_type": "markdown",
   "id": "ec47752b-740e-4ace-8932-dc4bcc3fcce4",
   "metadata": {},
   "source": [
    "### dictionnary mapping destination folder to search pattern for the Pacific domain maps "
   ]
  },
  {
   "cell_type": "code",
   "execution_count": 10,
   "id": "ae995159-ec6a-48dd-ac75-588737d0d3f3",
   "metadata": {},
   "outputs": [],
   "source": [
    "dsearch = {}\n",
    "dsearch['SPI'] = 'GPM_IMERG_SPI_Pacific'\n",
    "dsearch['EAR_Watch'] = 'EAR_Watch_Pacific'\n",
    "dsearch['USDM'] = 'USDM_Pacific'\n",
    "dsearch['accumulations'] = 'precip_accumulation'\n",
    "dsearch['anomalies'] = 'precip_anomalies'\n",
    "dsearch['dry_days'] = 'nb_dry_days'\n",
    "dsearch['last_rain'] = 'days_since_rain'"
   ]
  },
  {
   "cell_type": "code",
   "execution_count": 11,
   "id": "f32a5f7e-47d6-45ac-b592-6315b2a1f324",
   "metadata": {},
   "outputs": [],
   "source": [
    "k = 'SPI'"
   ]
  },
  {
   "cell_type": "code",
   "execution_count": 12,
   "id": "3a8eb6f0-7263-437d-baf5-49b730c7c953",
   "metadata": {},
   "outputs": [],
   "source": [
    "list_files = list(fig_path_GPM.glob(f\"{dsearch[k]}*\"))"
   ]
  },
  {
   "cell_type": "code",
   "execution_count": 13,
   "id": "fc73f95b-a47f-4afe-9758-991df7a5201a",
   "metadata": {},
   "outputs": [
    {
     "data": {
      "text/plain": [
       "[PosixPath('/home/nicolasf/operational/ICU/development/hotspots/figures/GPM_IMERG/GPM_IMERG_SPI_Pacific_60days_to_2021-12-08.png'),\n",
       " PosixPath('/home/nicolasf/operational/ICU/development/hotspots/figures/GPM_IMERG/GPM_IMERG_SPI_Pacific_180days_to_2021-12-07.png'),\n",
       " PosixPath('/home/nicolasf/operational/ICU/development/hotspots/figures/GPM_IMERG/GPM_IMERG_SPI_Pacific_90days_to_2021-12-08.png'),\n",
       " PosixPath('/home/nicolasf/operational/ICU/development/hotspots/figures/GPM_IMERG/GPM_IMERG_SPI_Pacific_90days_to_2021-12-07.png'),\n",
       " PosixPath('/home/nicolasf/operational/ICU/development/hotspots/figures/GPM_IMERG/GPM_IMERG_SPI_Pacific_180days_to_2021-12-11.png'),\n",
       " PosixPath('/home/nicolasf/operational/ICU/development/hotspots/figures/GPM_IMERG/GPM_IMERG_SPI_Pacific_180days_to_2021-12-08.png'),\n",
       " PosixPath('/home/nicolasf/operational/ICU/development/hotspots/figures/GPM_IMERG/GPM_IMERG_SPI_Pacific_360days_to_2021-12-07.png'),\n",
       " PosixPath('/home/nicolasf/operational/ICU/development/hotspots/figures/GPM_IMERG/GPM_IMERG_SPI_Pacific_60days_to_2021-12-11.png'),\n",
       " PosixPath('/home/nicolasf/operational/ICU/development/hotspots/figures/GPM_IMERG/GPM_IMERG_SPI_Pacific_30days_to_2021-12-11.png'),\n",
       " PosixPath('/home/nicolasf/operational/ICU/development/hotspots/figures/GPM_IMERG/GPM_IMERG_SPI_Pacific_60days_to_2021-12-07.png'),\n",
       " PosixPath('/home/nicolasf/operational/ICU/development/hotspots/figures/GPM_IMERG/GPM_IMERG_SPI_Pacific_360days_to_2021-12-06.png'),\n",
       " PosixPath('/home/nicolasf/operational/ICU/development/hotspots/figures/GPM_IMERG/GPM_IMERG_SPI_Pacific_30days_to_2021-12-08.png'),\n",
       " PosixPath('/home/nicolasf/operational/ICU/development/hotspots/figures/GPM_IMERG/GPM_IMERG_SPI_Pacific_90days_to_2021-12-11.png'),\n",
       " PosixPath('/home/nicolasf/operational/ICU/development/hotspots/figures/GPM_IMERG/GPM_IMERG_SPI_Pacific_30days_to_2021-12-07.png'),\n",
       " PosixPath('/home/nicolasf/operational/ICU/development/hotspots/figures/GPM_IMERG/GPM_IMERG_SPI_Pacific_360days_to_2021-12-11.png'),\n",
       " PosixPath('/home/nicolasf/operational/ICU/development/hotspots/figures/GPM_IMERG/GPM_IMERG_SPI_Pacific_360days_to_2021-12-08.png')]"
      ]
     },
     "execution_count": 13,
     "metadata": {},
     "output_type": "execute_result"
    }
   ],
   "source": [
    "list_files"
   ]
  },
  {
   "cell_type": "code",
   "execution_count": 14,
   "id": "0496af2f-27d5-4182-9474-9a90e98f55bf",
   "metadata": {},
   "outputs": [],
   "source": [
    "list_files.sort()"
   ]
  },
  {
   "cell_type": "code",
   "execution_count": 15,
   "id": "e61c6577-e9c5-4336-98a1-f0679827d25c",
   "metadata": {},
   "outputs": [
    {
     "data": {
      "text/plain": [
       "[PosixPath('/home/nicolasf/operational/ICU/development/hotspots/figures/GPM_IMERG/GPM_IMERG_SPI_Pacific_180days_to_2021-12-07.png'),\n",
       " PosixPath('/home/nicolasf/operational/ICU/development/hotspots/figures/GPM_IMERG/GPM_IMERG_SPI_Pacific_180days_to_2021-12-08.png'),\n",
       " PosixPath('/home/nicolasf/operational/ICU/development/hotspots/figures/GPM_IMERG/GPM_IMERG_SPI_Pacific_180days_to_2021-12-11.png'),\n",
       " PosixPath('/home/nicolasf/operational/ICU/development/hotspots/figures/GPM_IMERG/GPM_IMERG_SPI_Pacific_30days_to_2021-12-07.png'),\n",
       " PosixPath('/home/nicolasf/operational/ICU/development/hotspots/figures/GPM_IMERG/GPM_IMERG_SPI_Pacific_30days_to_2021-12-08.png'),\n",
       " PosixPath('/home/nicolasf/operational/ICU/development/hotspots/figures/GPM_IMERG/GPM_IMERG_SPI_Pacific_30days_to_2021-12-11.png'),\n",
       " PosixPath('/home/nicolasf/operational/ICU/development/hotspots/figures/GPM_IMERG/GPM_IMERG_SPI_Pacific_360days_to_2021-12-06.png'),\n",
       " PosixPath('/home/nicolasf/operational/ICU/development/hotspots/figures/GPM_IMERG/GPM_IMERG_SPI_Pacific_360days_to_2021-12-07.png'),\n",
       " PosixPath('/home/nicolasf/operational/ICU/development/hotspots/figures/GPM_IMERG/GPM_IMERG_SPI_Pacific_360days_to_2021-12-08.png'),\n",
       " PosixPath('/home/nicolasf/operational/ICU/development/hotspots/figures/GPM_IMERG/GPM_IMERG_SPI_Pacific_360days_to_2021-12-11.png'),\n",
       " PosixPath('/home/nicolasf/operational/ICU/development/hotspots/figures/GPM_IMERG/GPM_IMERG_SPI_Pacific_60days_to_2021-12-07.png'),\n",
       " PosixPath('/home/nicolasf/operational/ICU/development/hotspots/figures/GPM_IMERG/GPM_IMERG_SPI_Pacific_60days_to_2021-12-08.png'),\n",
       " PosixPath('/home/nicolasf/operational/ICU/development/hotspots/figures/GPM_IMERG/GPM_IMERG_SPI_Pacific_60days_to_2021-12-11.png'),\n",
       " PosixPath('/home/nicolasf/operational/ICU/development/hotspots/figures/GPM_IMERG/GPM_IMERG_SPI_Pacific_90days_to_2021-12-07.png'),\n",
       " PosixPath('/home/nicolasf/operational/ICU/development/hotspots/figures/GPM_IMERG/GPM_IMERG_SPI_Pacific_90days_to_2021-12-08.png'),\n",
       " PosixPath('/home/nicolasf/operational/ICU/development/hotspots/figures/GPM_IMERG/GPM_IMERG_SPI_Pacific_90days_to_2021-12-11.png')]"
      ]
     },
     "execution_count": 15,
     "metadata": {},
     "output_type": "execute_result"
    }
   ],
   "source": [
    "list_files"
   ]
  },
  {
   "cell_type": "code",
   "execution_count": 16,
   "id": "cc476d7d-b627-4de7-a67f-ce4b827e2dda",
   "metadata": {},
   "outputs": [],
   "source": [
    "last_date = list_files[-1].name.split(\"_\")[-1].split(\".\")[-2]"
   ]
  },
  {
   "cell_type": "code",
   "execution_count": 17,
   "id": "f3dd2f61-7005-4d63-92d8-8c94bee9574a",
   "metadata": {},
   "outputs": [],
   "source": [
    "last_date = datetime.strptime(last_date, \"%Y-%m-%d\")"
   ]
  },
  {
   "cell_type": "code",
   "execution_count": 18,
   "id": "06d290c5-2e10-4815-83ce-2990704712da",
   "metadata": {},
   "outputs": [
    {
     "name": "stdout",
     "output_type": "stream",
     "text": [
      "last date is 2021-12-11\n"
     ]
    }
   ],
   "source": [
    "print(f\"last date is {last_date:%Y-%m-%d}\")"
   ]
  },
  {
   "cell_type": "code",
   "execution_count": 19,
   "id": "024b7202-621c-4c95-9dd0-87ac157297be",
   "metadata": {},
   "outputs": [],
   "source": [
    "list_files = list(fig_path_GPM.glob(f\"{dsearch[k]}*{last_date:%Y-%m-%d}.png\"))"
   ]
  },
  {
   "cell_type": "code",
   "execution_count": 20,
   "id": "428ec81f-1098-48d0-8035-4c8835f03268",
   "metadata": {},
   "outputs": [
    {
     "data": {
      "text/plain": [
       "[PosixPath('/home/nicolasf/operational/ICU/development/hotspots/figures/GPM_IMERG/GPM_IMERG_SPI_Pacific_180days_to_2021-12-11.png'),\n",
       " PosixPath('/home/nicolasf/operational/ICU/development/hotspots/figures/GPM_IMERG/GPM_IMERG_SPI_Pacific_60days_to_2021-12-11.png'),\n",
       " PosixPath('/home/nicolasf/operational/ICU/development/hotspots/figures/GPM_IMERG/GPM_IMERG_SPI_Pacific_30days_to_2021-12-11.png'),\n",
       " PosixPath('/home/nicolasf/operational/ICU/development/hotspots/figures/GPM_IMERG/GPM_IMERG_SPI_Pacific_90days_to_2021-12-11.png'),\n",
       " PosixPath('/home/nicolasf/operational/ICU/development/hotspots/figures/GPM_IMERG/GPM_IMERG_SPI_Pacific_360days_to_2021-12-11.png')]"
      ]
     },
     "execution_count": 20,
     "metadata": {},
     "output_type": "execute_result"
    }
   ],
   "source": [
    "list_files"
   ]
  },
  {
   "cell_type": "code",
   "execution_count": 21,
   "id": "c50d4491-d242-46af-baa7-6e14f5e8caca",
   "metadata": {},
   "outputs": [],
   "source": [
    "fname = list_files[0]"
   ]
  },
  {
   "cell_type": "code",
   "execution_count": 22,
   "id": "c65c2396-926b-45e4-b205-550994a7accf",
   "metadata": {},
   "outputs": [],
   "source": [
    "filename = fname.name.replace(f\"_to_{last_date:%Y-%m-%d}\", \"_latest\")"
   ]
  },
  {
   "cell_type": "code",
   "execution_count": 23,
   "id": "acde5879-6948-4767-a04c-657aebb7f0a4",
   "metadata": {},
   "outputs": [
    {
     "data": {
      "text/plain": [
       "'GPM_IMERG_SPI_Pacific_180days_latest.png'"
      ]
     },
     "execution_count": 23,
     "metadata": {},
     "output_type": "execute_result"
    }
   ],
   "source": [
    "filename"
   ]
  },
  {
   "cell_type": "code",
   "execution_count": 24,
   "id": "a95c12f4-fea8-4109-b7a2-c978f0bbdb11",
   "metadata": {},
   "outputs": [],
   "source": [
    "dest = CWD.parent.joinpath(f\"GPM_IMERG/{k}/Pacific/{filename}\")"
   ]
  },
  {
   "cell_type": "code",
   "execution_count": 25,
   "id": "c9c7d633-5626-429f-a53d-5704858896f1",
   "metadata": {},
   "outputs": [
    {
     "data": {
      "text/plain": [
       "PosixPath('/home/nicolasf/operational/ICU/development/hotspots/figures/GPM_IMERG/GPM_IMERG_SPI_Pacific_180days_to_2021-12-11.png')"
      ]
     },
     "execution_count": 25,
     "metadata": {},
     "output_type": "execute_result"
    }
   ],
   "source": [
    "fname "
   ]
  },
  {
   "cell_type": "code",
   "execution_count": 26,
   "id": "7f5a0ec4-e9e2-4d12-9214-1da542f5d3bd",
   "metadata": {},
   "outputs": [
    {
     "data": {
      "text/plain": [
       "PosixPath('/home/nicolasf/operational/ICU_Web/GPM_IMERG/SPI/Pacific/GPM_IMERG_SPI_Pacific_180days_latest.png')"
      ]
     },
     "execution_count": 26,
     "metadata": {},
     "output_type": "execute_result"
    }
   ],
   "source": [
    "dest"
   ]
  },
  {
   "cell_type": "code",
   "execution_count": 27,
   "id": "da5373e5-6c1a-4b43-b603-630cba4a81aa",
   "metadata": {},
   "outputs": [],
   "source": [
    "dest.unlink(missing_ok=True)"
   ]
  },
  {
   "cell_type": "code",
   "execution_count": 28,
   "id": "69f7ead1-bedd-4987-a022-18f498cc5fa0",
   "metadata": {},
   "outputs": [
    {
     "data": {
      "text/plain": [
       "PosixPath('/home/nicolasf/operational/ICU_Web/GPM_IMERG/SPI/Pacific/GPM_IMERG_SPI_Pacific_180days_latest.png')"
      ]
     },
     "execution_count": 28,
     "metadata": {},
     "output_type": "execute_result"
    }
   ],
   "source": [
    "shutil.copy(fname, dest)"
   ]
  },
  {
   "cell_type": "code",
   "execution_count": 29,
   "id": "bb8982f0-17aa-417d-abdf-5f334e2074fa",
   "metadata": {},
   "outputs": [
    {
     "name": "stdout",
     "output_type": "stream",
     "text": [
      "finding files for SPI\n",
      "found 16 for variable SPI\n",
      "last date is 2021-12-11\n",
      "will now copy 5 files\n",
      "copied \n",
      "/home/nicolasf/operational/ICU/development/hotspots/figures/GPM_IMERG/GPM_IMERG_SPI_Pacific_180days_to_2021-12-11.png\n",
      "/home/nicolasf/operational/ICU/development/hotspots/figures/GPM_IMERG/GPM_IMERG_SPI_Pacific_60days_to_2021-12-11.png\n",
      "/home/nicolasf/operational/ICU/development/hotspots/figures/GPM_IMERG/GPM_IMERG_SPI_Pacific_30days_to_2021-12-11.png\n",
      "/home/nicolasf/operational/ICU/development/hotspots/figures/GPM_IMERG/GPM_IMERG_SPI_Pacific_90days_to_2021-12-11.png\n",
      "/home/nicolasf/operational/ICU/development/hotspots/figures/GPM_IMERG/GPM_IMERG_SPI_Pacific_360days_to_2021-12-11.png\n",
      "finding files for EAR_Watch\n",
      "found 55 for variable EAR_Watch\n",
      "last date is 2021-12-10\n",
      "will now copy 5 files\n",
      "copied \n",
      "/home/nicolasf/operational/ICU/development/hotspots/figures/GPM_IMERG/EAR_Watch_Pacific_90days_to_2021-12-10.png\n",
      "/home/nicolasf/operational/ICU/development/hotspots/figures/GPM_IMERG/EAR_Watch_Pacific_60days_to_2021-12-10.png\n",
      "/home/nicolasf/operational/ICU/development/hotspots/figures/GPM_IMERG/EAR_Watch_Pacific_30days_to_2021-12-10.png\n",
      "/home/nicolasf/operational/ICU/development/hotspots/figures/GPM_IMERG/EAR_Watch_Pacific_360days_to_2021-12-10.png\n",
      "/home/nicolasf/operational/ICU/development/hotspots/figures/GPM_IMERG/EAR_Watch_Pacific_180days_to_2021-12-10.png\n",
      "finding files for USDM\n",
      "found 55 for variable USDM\n",
      "last date is 2021-12-10\n",
      "will now copy 5 files\n",
      "copied \n",
      "/home/nicolasf/operational/ICU/development/hotspots/figures/GPM_IMERG/USDM_Pacific_360days_to_2021-12-10.png\n",
      "/home/nicolasf/operational/ICU/development/hotspots/figures/GPM_IMERG/USDM_Pacific_180days_to_2021-12-10.png\n",
      "/home/nicolasf/operational/ICU/development/hotspots/figures/GPM_IMERG/USDM_Pacific_90days_to_2021-12-10.png\n",
      "/home/nicolasf/operational/ICU/development/hotspots/figures/GPM_IMERG/USDM_Pacific_60days_to_2021-12-10.png\n",
      "/home/nicolasf/operational/ICU/development/hotspots/figures/GPM_IMERG/USDM_Pacific_30days_to_2021-12-10.png\n",
      "finding files for accumulations\n",
      "found 55 for variable accumulations\n",
      "last date is 2021-12-10\n",
      "will now copy 5 files\n",
      "copied \n",
      "/home/nicolasf/operational/ICU/development/hotspots/figures/GPM_IMERG/precip_accumulation_90days_to_2021-12-10.png\n",
      "/home/nicolasf/operational/ICU/development/hotspots/figures/GPM_IMERG/precip_accumulation_360days_to_2021-12-10.png\n",
      "/home/nicolasf/operational/ICU/development/hotspots/figures/GPM_IMERG/precip_accumulation_60days_to_2021-12-10.png\n",
      "/home/nicolasf/operational/ICU/development/hotspots/figures/GPM_IMERG/precip_accumulation_180days_to_2021-12-10.png\n",
      "/home/nicolasf/operational/ICU/development/hotspots/figures/GPM_IMERG/precip_accumulation_30days_to_2021-12-10.png\n",
      "finding files for anomalies\n",
      "found 55 for variable anomalies\n",
      "last date is 2021-12-10\n",
      "will now copy 5 files\n",
      "copied \n",
      "/home/nicolasf/operational/ICU/development/hotspots/figures/GPM_IMERG/precip_anomalies_90days_to_2021-12-10.png\n",
      "/home/nicolasf/operational/ICU/development/hotspots/figures/GPM_IMERG/precip_anomalies_180days_to_2021-12-10.png\n",
      "/home/nicolasf/operational/ICU/development/hotspots/figures/GPM_IMERG/precip_anomalies_360days_to_2021-12-10.png\n",
      "/home/nicolasf/operational/ICU/development/hotspots/figures/GPM_IMERG/precip_anomalies_60days_to_2021-12-10.png\n",
      "/home/nicolasf/operational/ICU/development/hotspots/figures/GPM_IMERG/precip_anomalies_30days_to_2021-12-10.png\n",
      "finding files for dry_days\n",
      "found 55 for variable dry_days\n",
      "last date is 2021-12-10\n",
      "will now copy 5 files\n",
      "copied \n",
      "/home/nicolasf/operational/ICU/development/hotspots/figures/GPM_IMERG/nb_dry_days_30days_to_2021-12-10.png\n",
      "/home/nicolasf/operational/ICU/development/hotspots/figures/GPM_IMERG/nb_dry_days_360days_to_2021-12-10.png\n",
      "/home/nicolasf/operational/ICU/development/hotspots/figures/GPM_IMERG/nb_dry_days_180days_to_2021-12-10.png\n",
      "/home/nicolasf/operational/ICU/development/hotspots/figures/GPM_IMERG/nb_dry_days_60days_to_2021-12-10.png\n",
      "/home/nicolasf/operational/ICU/development/hotspots/figures/GPM_IMERG/nb_dry_days_90days_to_2021-12-10.png\n",
      "finding files for last_rain\n",
      "found 55 for variable last_rain\n",
      "last date is 2021-12-10\n",
      "will now copy 5 files\n",
      "copied \n",
      "/home/nicolasf/operational/ICU/development/hotspots/figures/GPM_IMERG/days_since_rain_90days_to_2021-12-10.png\n",
      "/home/nicolasf/operational/ICU/development/hotspots/figures/GPM_IMERG/days_since_rain_30days_to_2021-12-10.png\n",
      "/home/nicolasf/operational/ICU/development/hotspots/figures/GPM_IMERG/days_since_rain_60days_to_2021-12-10.png\n",
      "/home/nicolasf/operational/ICU/development/hotspots/figures/GPM_IMERG/days_since_rain_360days_to_2021-12-10.png\n",
      "/home/nicolasf/operational/ICU/development/hotspots/figures/GPM_IMERG/days_since_rain_180days_to_2021-12-10.png\n"
     ]
    }
   ],
   "source": [
    "for k in dsearch.keys(): \n",
    "    \n",
    "    print(f\"finding files for {k}\")\n",
    "    \n",
    "    list_files = list(fig_path_GPM.glob(f\"{dsearch[k]}*\"))\n",
    "    \n",
    "    list_files.sort()\n",
    "    \n",
    "    print(f\"found {len(list_files)} for variable {k}\")\n",
    "    \n",
    "    last_date = list_files[-1].name.split(\"_\")[-1].split(\".\")[-2]\n",
    "    \n",
    "    last_date = datetime.strptime(last_date, \"%Y-%m-%d\")\n",
    "    \n",
    "    print(f\"last date is {last_date:%Y-%m-%d}\")\n",
    "    \n",
    "    list_files = list(fig_path_GPM.glob(f\"{dsearch[k]}*{last_date:%Y-%m-%d}.png\"))\n",
    "    \n",
    "    print(f\"will now copy {len(list_files)} files\")\n",
    "    \n",
    "    for fname in list_files: \n",
    "    \n",
    "        filename = fname.name.replace(f\"_to_{last_date:%Y-%m-%d}\", \"_latest\")\n",
    "    \n",
    "        dest = CWD.parent.joinpath(f\"GPM_IMERG/{k}/Pacific/{filename}\")\n",
    "        \n",
    "        dest.unlink(missing_ok=True)\n",
    "    \n",
    "        shutil.copy(fname, dest)\n",
    "    \n",
    "    print(f\"copied \\n{chr(10).join(map(str,list_files))}\")"
   ]
  },
  {
   "cell_type": "markdown",
   "id": "a228a226-a1d4-4549-9b05-fe80fb1b66ac",
   "metadata": {},
   "source": [
    "### Now process the figures for one country "
   ]
  },
  {
   "cell_type": "code",
   "execution_count": 30,
   "id": "d3533809-4bd1-4736-8850-c1c18c3e9a3f",
   "metadata": {},
   "outputs": [
    {
     "name": "stdout",
     "output_type": "stream",
     "text": [
      "copied \n",
      "\n",
      "copied \n",
      "/home/nicolasf/operational/ICU/development/hotspots/figures/GPM_IMERG/EAR_Watch/Kiribati_Line_Islands_mask_EEZ_EAR_Watch_360nbdays_to_2021-12-10.png\n",
      "/home/nicolasf/operational/ICU/development/hotspots/figures/GPM_IMERG/EAR_Watch/Kiribati_Line_Islands_mask_EEZ_EAR_Watch_90nbdays_to_2021-12-10.png\n",
      "/home/nicolasf/operational/ICU/development/hotspots/figures/GPM_IMERG/EAR_Watch/Kiribati_Line_Islands_mask_EEZ_EAR_Watch_180nbdays_to_2021-12-10.png\n",
      "/home/nicolasf/operational/ICU/development/hotspots/figures/GPM_IMERG/EAR_Watch/Kiribati_Line_Islands_mask_EEZ_EAR_Watch_60nbdays_to_2021-12-10.png\n",
      "/home/nicolasf/operational/ICU/development/hotspots/figures/GPM_IMERG/EAR_Watch/Kiribati_Line_Islands_mask_EEZ_EAR_Watch_30nbdays_to_2021-12-10.png\n",
      "copied \n",
      "/home/nicolasf/operational/ICU/development/hotspots/figures/GPM_IMERG/USDM/Kiribati_Line_Islands_mask_EEZ_USDM_30nbdays_to_2021-12-10.png\n",
      "/home/nicolasf/operational/ICU/development/hotspots/figures/GPM_IMERG/USDM/Kiribati_Line_Islands_mask_EEZ_USDM_60nbdays_to_2021-12-10.png\n",
      "/home/nicolasf/operational/ICU/development/hotspots/figures/GPM_IMERG/USDM/Kiribati_Line_Islands_mask_EEZ_USDM_360nbdays_to_2021-12-10.png\n",
      "/home/nicolasf/operational/ICU/development/hotspots/figures/GPM_IMERG/USDM/Kiribati_Line_Islands_mask_EEZ_USDM_180nbdays_to_2021-12-10.png\n",
      "/home/nicolasf/operational/ICU/development/hotspots/figures/GPM_IMERG/USDM/Kiribati_Line_Islands_mask_EEZ_USDM_90nbdays_to_2021-12-10.png\n",
      "copied \n",
      "\n",
      "copied \n",
      "/home/nicolasf/operational/ICU/development/hotspots/figures/GPM_IMERG/EAR_Watch/Fiji_mask_EEZ_EAR_Watch_30nbdays_to_2021-12-10.png\n",
      "/home/nicolasf/operational/ICU/development/hotspots/figures/GPM_IMERG/EAR_Watch/Fiji_mask_EEZ_EAR_Watch_60nbdays_to_2021-12-10.png\n",
      "/home/nicolasf/operational/ICU/development/hotspots/figures/GPM_IMERG/EAR_Watch/Fiji_mask_EEZ_EAR_Watch_180nbdays_to_2021-12-10.png\n",
      "/home/nicolasf/operational/ICU/development/hotspots/figures/GPM_IMERG/EAR_Watch/Fiji_mask_EEZ_EAR_Watch_360nbdays_to_2021-12-10.png\n",
      "/home/nicolasf/operational/ICU/development/hotspots/figures/GPM_IMERG/EAR_Watch/Fiji_mask_EEZ_EAR_Watch_90nbdays_to_2021-12-10.png\n",
      "copied \n",
      "/home/nicolasf/operational/ICU/development/hotspots/figures/GPM_IMERG/USDM/Fiji_mask_EEZ_USDM_180nbdays_to_2021-12-10.png\n",
      "/home/nicolasf/operational/ICU/development/hotspots/figures/GPM_IMERG/USDM/Fiji_mask_EEZ_USDM_90nbdays_to_2021-12-10.png\n",
      "/home/nicolasf/operational/ICU/development/hotspots/figures/GPM_IMERG/USDM/Fiji_mask_EEZ_USDM_360nbdays_to_2021-12-10.png\n",
      "/home/nicolasf/operational/ICU/development/hotspots/figures/GPM_IMERG/USDM/Fiji_mask_EEZ_USDM_60nbdays_to_2021-12-10.png\n",
      "/home/nicolasf/operational/ICU/development/hotspots/figures/GPM_IMERG/USDM/Fiji_mask_EEZ_USDM_30nbdays_to_2021-12-10.png\n",
      "copied \n",
      "\n",
      "copied \n",
      "/home/nicolasf/operational/ICU/development/hotspots/figures/GPM_IMERG/EAR_Watch/New_Caledonia_mask_EEZ_EAR_Watch_360nbdays_to_2021-12-10.png\n",
      "/home/nicolasf/operational/ICU/development/hotspots/figures/GPM_IMERG/EAR_Watch/New_Caledonia_mask_EEZ_EAR_Watch_180nbdays_to_2021-12-10.png\n",
      "/home/nicolasf/operational/ICU/development/hotspots/figures/GPM_IMERG/EAR_Watch/New_Caledonia_mask_EEZ_EAR_Watch_30nbdays_to_2021-12-10.png\n",
      "/home/nicolasf/operational/ICU/development/hotspots/figures/GPM_IMERG/EAR_Watch/New_Caledonia_mask_EEZ_EAR_Watch_90nbdays_to_2021-12-10.png\n",
      "/home/nicolasf/operational/ICU/development/hotspots/figures/GPM_IMERG/EAR_Watch/New_Caledonia_mask_EEZ_EAR_Watch_60nbdays_to_2021-12-10.png\n",
      "copied \n",
      "/home/nicolasf/operational/ICU/development/hotspots/figures/GPM_IMERG/USDM/New_Caledonia_mask_EEZ_USDM_90nbdays_to_2021-12-10.png\n",
      "/home/nicolasf/operational/ICU/development/hotspots/figures/GPM_IMERG/USDM/New_Caledonia_mask_EEZ_USDM_180nbdays_to_2021-12-10.png\n",
      "/home/nicolasf/operational/ICU/development/hotspots/figures/GPM_IMERG/USDM/New_Caledonia_mask_EEZ_USDM_60nbdays_to_2021-12-10.png\n",
      "/home/nicolasf/operational/ICU/development/hotspots/figures/GPM_IMERG/USDM/New_Caledonia_mask_EEZ_USDM_360nbdays_to_2021-12-10.png\n",
      "/home/nicolasf/operational/ICU/development/hotspots/figures/GPM_IMERG/USDM/New_Caledonia_mask_EEZ_USDM_30nbdays_to_2021-12-10.png\n",
      "copied \n",
      "\n",
      "copied \n",
      "/home/nicolasf/operational/ICU/development/hotspots/figures/GPM_IMERG/EAR_Watch/Papua_New_Guinea_mask_EEZ_EAR_Watch_30nbdays_to_2021-12-10.png\n",
      "/home/nicolasf/operational/ICU/development/hotspots/figures/GPM_IMERG/EAR_Watch/Papua_New_Guinea_mask_EEZ_EAR_Watch_360nbdays_to_2021-12-10.png\n",
      "/home/nicolasf/operational/ICU/development/hotspots/figures/GPM_IMERG/EAR_Watch/Papua_New_Guinea_mask_EEZ_EAR_Watch_180nbdays_to_2021-12-10.png\n",
      "/home/nicolasf/operational/ICU/development/hotspots/figures/GPM_IMERG/EAR_Watch/Papua_New_Guinea_mask_EEZ_EAR_Watch_60nbdays_to_2021-12-10.png\n",
      "/home/nicolasf/operational/ICU/development/hotspots/figures/GPM_IMERG/EAR_Watch/Papua_New_Guinea_mask_EEZ_EAR_Watch_90nbdays_to_2021-12-10.png\n",
      "copied \n",
      "/home/nicolasf/operational/ICU/development/hotspots/figures/GPM_IMERG/USDM/Papua_New_Guinea_mask_EEZ_USDM_360nbdays_to_2021-12-10.png\n",
      "/home/nicolasf/operational/ICU/development/hotspots/figures/GPM_IMERG/USDM/Papua_New_Guinea_mask_EEZ_USDM_30nbdays_to_2021-12-10.png\n",
      "/home/nicolasf/operational/ICU/development/hotspots/figures/GPM_IMERG/USDM/Papua_New_Guinea_mask_EEZ_USDM_90nbdays_to_2021-12-10.png\n",
      "/home/nicolasf/operational/ICU/development/hotspots/figures/GPM_IMERG/USDM/Papua_New_Guinea_mask_EEZ_USDM_180nbdays_to_2021-12-10.png\n",
      "/home/nicolasf/operational/ICU/development/hotspots/figures/GPM_IMERG/USDM/Papua_New_Guinea_mask_EEZ_USDM_60nbdays_to_2021-12-10.png\n",
      "copied \n",
      "\n",
      "copied \n",
      "/home/nicolasf/operational/ICU/development/hotspots/figures/GPM_IMERG/EAR_Watch/Wallis_Futuna_mask_EEZ_EAR_Watch_360nbdays_to_2021-12-10.png\n",
      "/home/nicolasf/operational/ICU/development/hotspots/figures/GPM_IMERG/EAR_Watch/Wallis_Futuna_mask_EEZ_EAR_Watch_30nbdays_to_2021-12-10.png\n",
      "/home/nicolasf/operational/ICU/development/hotspots/figures/GPM_IMERG/EAR_Watch/Wallis_Futuna_mask_EEZ_EAR_Watch_90nbdays_to_2021-12-10.png\n",
      "/home/nicolasf/operational/ICU/development/hotspots/figures/GPM_IMERG/EAR_Watch/Wallis_Futuna_mask_EEZ_EAR_Watch_180nbdays_to_2021-12-10.png\n",
      "/home/nicolasf/operational/ICU/development/hotspots/figures/GPM_IMERG/EAR_Watch/Wallis_Futuna_mask_EEZ_EAR_Watch_60nbdays_to_2021-12-10.png\n",
      "copied \n",
      "/home/nicolasf/operational/ICU/development/hotspots/figures/GPM_IMERG/USDM/Wallis_Futuna_mask_EEZ_USDM_360nbdays_to_2021-12-10.png\n",
      "/home/nicolasf/operational/ICU/development/hotspots/figures/GPM_IMERG/USDM/Wallis_Futuna_mask_EEZ_USDM_60nbdays_to_2021-12-10.png\n",
      "/home/nicolasf/operational/ICU/development/hotspots/figures/GPM_IMERG/USDM/Wallis_Futuna_mask_EEZ_USDM_30nbdays_to_2021-12-10.png\n",
      "/home/nicolasf/operational/ICU/development/hotspots/figures/GPM_IMERG/USDM/Wallis_Futuna_mask_EEZ_USDM_90nbdays_to_2021-12-10.png\n",
      "/home/nicolasf/operational/ICU/development/hotspots/figures/GPM_IMERG/USDM/Wallis_Futuna_mask_EEZ_USDM_180nbdays_to_2021-12-10.png\n",
      "copied \n",
      "\n",
      "copied \n",
      "/home/nicolasf/operational/ICU/development/hotspots/figures/GPM_IMERG/EAR_Watch/Cook_Islands_mask_EEZ_EAR_Watch_90nbdays_to_2021-12-10.png\n",
      "/home/nicolasf/operational/ICU/development/hotspots/figures/GPM_IMERG/EAR_Watch/Cook_Islands_mask_EEZ_EAR_Watch_180nbdays_to_2021-12-10.png\n",
      "/home/nicolasf/operational/ICU/development/hotspots/figures/GPM_IMERG/EAR_Watch/Cook_Islands_mask_EEZ_EAR_Watch_360nbdays_to_2021-12-10.png\n",
      "/home/nicolasf/operational/ICU/development/hotspots/figures/GPM_IMERG/EAR_Watch/Cook_Islands_mask_EEZ_EAR_Watch_60nbdays_to_2021-12-10.png\n",
      "/home/nicolasf/operational/ICU/development/hotspots/figures/GPM_IMERG/EAR_Watch/Cook_Islands_mask_EEZ_EAR_Watch_30nbdays_to_2021-12-10.png\n",
      "copied \n",
      "/home/nicolasf/operational/ICU/development/hotspots/figures/GPM_IMERG/USDM/Cook_Islands_mask_EEZ_USDM_90nbdays_to_2021-12-10.png\n",
      "/home/nicolasf/operational/ICU/development/hotspots/figures/GPM_IMERG/USDM/Cook_Islands_mask_EEZ_USDM_360nbdays_to_2021-12-10.png\n",
      "/home/nicolasf/operational/ICU/development/hotspots/figures/GPM_IMERG/USDM/Cook_Islands_mask_EEZ_USDM_60nbdays_to_2021-12-10.png\n",
      "/home/nicolasf/operational/ICU/development/hotspots/figures/GPM_IMERG/USDM/Cook_Islands_mask_EEZ_USDM_180nbdays_to_2021-12-10.png\n",
      "/home/nicolasf/operational/ICU/development/hotspots/figures/GPM_IMERG/USDM/Cook_Islands_mask_EEZ_USDM_30nbdays_to_2021-12-10.png\n",
      "copied \n",
      "\n",
      "copied \n",
      "/home/nicolasf/operational/ICU/development/hotspots/figures/GPM_IMERG/EAR_Watch/Solomon_Islands_mask_EEZ_EAR_Watch_360nbdays_to_2021-12-10.png\n",
      "/home/nicolasf/operational/ICU/development/hotspots/figures/GPM_IMERG/EAR_Watch/Solomon_Islands_mask_EEZ_EAR_Watch_90nbdays_to_2021-12-10.png\n",
      "/home/nicolasf/operational/ICU/development/hotspots/figures/GPM_IMERG/EAR_Watch/Solomon_Islands_mask_EEZ_EAR_Watch_60nbdays_to_2021-12-10.png\n",
      "/home/nicolasf/operational/ICU/development/hotspots/figures/GPM_IMERG/EAR_Watch/Solomon_Islands_mask_EEZ_EAR_Watch_30nbdays_to_2021-12-10.png\n",
      "/home/nicolasf/operational/ICU/development/hotspots/figures/GPM_IMERG/EAR_Watch/Solomon_Islands_mask_EEZ_EAR_Watch_180nbdays_to_2021-12-10.png\n",
      "copied \n",
      "/home/nicolasf/operational/ICU/development/hotspots/figures/GPM_IMERG/USDM/Solomon_Islands_mask_EEZ_USDM_60nbdays_to_2021-12-10.png\n",
      "/home/nicolasf/operational/ICU/development/hotspots/figures/GPM_IMERG/USDM/Solomon_Islands_mask_EEZ_USDM_180nbdays_to_2021-12-10.png\n",
      "/home/nicolasf/operational/ICU/development/hotspots/figures/GPM_IMERG/USDM/Solomon_Islands_mask_EEZ_USDM_30nbdays_to_2021-12-10.png\n",
      "/home/nicolasf/operational/ICU/development/hotspots/figures/GPM_IMERG/USDM/Solomon_Islands_mask_EEZ_USDM_90nbdays_to_2021-12-10.png\n",
      "/home/nicolasf/operational/ICU/development/hotspots/figures/GPM_IMERG/USDM/Solomon_Islands_mask_EEZ_USDM_360nbdays_to_2021-12-10.png\n",
      "copied \n",
      "\n",
      "copied \n",
      "/home/nicolasf/operational/ICU/development/hotspots/figures/GPM_IMERG/EAR_Watch/French_Polynesia_mask_EEZ_EAR_Watch_360nbdays_to_2021-12-10.png\n",
      "/home/nicolasf/operational/ICU/development/hotspots/figures/GPM_IMERG/EAR_Watch/French_Polynesia_mask_EEZ_EAR_Watch_90nbdays_to_2021-12-10.png\n",
      "/home/nicolasf/operational/ICU/development/hotspots/figures/GPM_IMERG/EAR_Watch/French_Polynesia_mask_EEZ_EAR_Watch_30nbdays_to_2021-12-10.png\n",
      "/home/nicolasf/operational/ICU/development/hotspots/figures/GPM_IMERG/EAR_Watch/French_Polynesia_mask_EEZ_EAR_Watch_60nbdays_to_2021-12-10.png\n",
      "/home/nicolasf/operational/ICU/development/hotspots/figures/GPM_IMERG/EAR_Watch/French_Polynesia_mask_EEZ_EAR_Watch_180nbdays_to_2021-12-10.png\n",
      "copied \n",
      "/home/nicolasf/operational/ICU/development/hotspots/figures/GPM_IMERG/USDM/French_Polynesia_mask_EEZ_USDM_90nbdays_to_2021-12-10.png\n",
      "/home/nicolasf/operational/ICU/development/hotspots/figures/GPM_IMERG/USDM/French_Polynesia_mask_EEZ_USDM_60nbdays_to_2021-12-10.png\n",
      "/home/nicolasf/operational/ICU/development/hotspots/figures/GPM_IMERG/USDM/French_Polynesia_mask_EEZ_USDM_180nbdays_to_2021-12-10.png\n",
      "/home/nicolasf/operational/ICU/development/hotspots/figures/GPM_IMERG/USDM/French_Polynesia_mask_EEZ_USDM_30nbdays_to_2021-12-10.png\n",
      "/home/nicolasf/operational/ICU/development/hotspots/figures/GPM_IMERG/USDM/French_Polynesia_mask_EEZ_USDM_360nbdays_to_2021-12-10.png\n",
      "copied \n",
      "\n",
      "copied \n",
      "/home/nicolasf/operational/ICU/development/hotspots/figures/GPM_IMERG/EAR_Watch/Palau_mask_EEZ_EAR_Watch_360nbdays_to_2021-12-10.png\n",
      "/home/nicolasf/operational/ICU/development/hotspots/figures/GPM_IMERG/EAR_Watch/Palau_mask_EEZ_EAR_Watch_30nbdays_to_2021-12-10.png\n",
      "/home/nicolasf/operational/ICU/development/hotspots/figures/GPM_IMERG/EAR_Watch/Palau_mask_EEZ_EAR_Watch_60nbdays_to_2021-12-10.png\n",
      "/home/nicolasf/operational/ICU/development/hotspots/figures/GPM_IMERG/EAR_Watch/Palau_mask_EEZ_EAR_Watch_180nbdays_to_2021-12-10.png\n",
      "/home/nicolasf/operational/ICU/development/hotspots/figures/GPM_IMERG/EAR_Watch/Palau_mask_EEZ_EAR_Watch_90nbdays_to_2021-12-10.png\n",
      "copied \n",
      "/home/nicolasf/operational/ICU/development/hotspots/figures/GPM_IMERG/USDM/Palau_mask_EEZ_USDM_60nbdays_to_2021-12-10.png\n",
      "/home/nicolasf/operational/ICU/development/hotspots/figures/GPM_IMERG/USDM/Palau_mask_EEZ_USDM_90nbdays_to_2021-12-10.png\n",
      "/home/nicolasf/operational/ICU/development/hotspots/figures/GPM_IMERG/USDM/Palau_mask_EEZ_USDM_180nbdays_to_2021-12-10.png\n",
      "/home/nicolasf/operational/ICU/development/hotspots/figures/GPM_IMERG/USDM/Palau_mask_EEZ_USDM_30nbdays_to_2021-12-10.png\n",
      "/home/nicolasf/operational/ICU/development/hotspots/figures/GPM_IMERG/USDM/Palau_mask_EEZ_USDM_360nbdays_to_2021-12-10.png\n",
      "copied \n",
      "\n",
      "copied \n",
      "/home/nicolasf/operational/ICU/development/hotspots/figures/GPM_IMERG/EAR_Watch/Tuvalu_mask_EEZ_EAR_Watch_30nbdays_to_2021-12-10.png\n",
      "/home/nicolasf/operational/ICU/development/hotspots/figures/GPM_IMERG/EAR_Watch/Tuvalu_mask_EEZ_EAR_Watch_90nbdays_to_2021-12-10.png\n",
      "/home/nicolasf/operational/ICU/development/hotspots/figures/GPM_IMERG/EAR_Watch/Tuvalu_mask_EEZ_EAR_Watch_60nbdays_to_2021-12-10.png\n",
      "/home/nicolasf/operational/ICU/development/hotspots/figures/GPM_IMERG/EAR_Watch/Tuvalu_mask_EEZ_EAR_Watch_360nbdays_to_2021-12-10.png\n",
      "/home/nicolasf/operational/ICU/development/hotspots/figures/GPM_IMERG/EAR_Watch/Tuvalu_mask_EEZ_EAR_Watch_180nbdays_to_2021-12-10.png\n",
      "copied \n",
      "/home/nicolasf/operational/ICU/development/hotspots/figures/GPM_IMERG/USDM/Tuvalu_mask_EEZ_USDM_180nbdays_to_2021-12-10.png\n",
      "/home/nicolasf/operational/ICU/development/hotspots/figures/GPM_IMERG/USDM/Tuvalu_mask_EEZ_USDM_360nbdays_to_2021-12-10.png\n",
      "/home/nicolasf/operational/ICU/development/hotspots/figures/GPM_IMERG/USDM/Tuvalu_mask_EEZ_USDM_90nbdays_to_2021-12-10.png\n",
      "/home/nicolasf/operational/ICU/development/hotspots/figures/GPM_IMERG/USDM/Tuvalu_mask_EEZ_USDM_30nbdays_to_2021-12-10.png\n",
      "/home/nicolasf/operational/ICU/development/hotspots/figures/GPM_IMERG/USDM/Tuvalu_mask_EEZ_USDM_60nbdays_to_2021-12-10.png\n",
      "copied \n",
      "\n",
      "copied \n",
      "/home/nicolasf/operational/ICU/development/hotspots/figures/GPM_IMERG/EAR_Watch/Vanuatu_mask_EEZ_EAR_Watch_180nbdays_to_2021-12-10.png\n",
      "/home/nicolasf/operational/ICU/development/hotspots/figures/GPM_IMERG/EAR_Watch/Vanuatu_mask_EEZ_EAR_Watch_360nbdays_to_2021-12-10.png\n",
      "/home/nicolasf/operational/ICU/development/hotspots/figures/GPM_IMERG/EAR_Watch/Vanuatu_mask_EEZ_EAR_Watch_60nbdays_to_2021-12-10.png\n",
      "/home/nicolasf/operational/ICU/development/hotspots/figures/GPM_IMERG/EAR_Watch/Vanuatu_mask_EEZ_EAR_Watch_90nbdays_to_2021-12-10.png\n",
      "/home/nicolasf/operational/ICU/development/hotspots/figures/GPM_IMERG/EAR_Watch/Vanuatu_mask_EEZ_EAR_Watch_30nbdays_to_2021-12-10.png\n",
      "copied \n",
      "/home/nicolasf/operational/ICU/development/hotspots/figures/GPM_IMERG/USDM/Vanuatu_mask_EEZ_USDM_30nbdays_to_2021-12-10.png\n",
      "/home/nicolasf/operational/ICU/development/hotspots/figures/GPM_IMERG/USDM/Vanuatu_mask_EEZ_USDM_180nbdays_to_2021-12-10.png\n",
      "/home/nicolasf/operational/ICU/development/hotspots/figures/GPM_IMERG/USDM/Vanuatu_mask_EEZ_USDM_90nbdays_to_2021-12-10.png\n",
      "/home/nicolasf/operational/ICU/development/hotspots/figures/GPM_IMERG/USDM/Vanuatu_mask_EEZ_USDM_60nbdays_to_2021-12-10.png\n",
      "/home/nicolasf/operational/ICU/development/hotspots/figures/GPM_IMERG/USDM/Vanuatu_mask_EEZ_USDM_360nbdays_to_2021-12-10.png\n",
      "copied \n",
      "\n",
      "copied \n",
      "/home/nicolasf/operational/ICU/development/hotspots/figures/GPM_IMERG/EAR_Watch/Pitcairn_Islands_mask_EEZ_EAR_Watch_90nbdays_to_2021-12-10.png\n",
      "/home/nicolasf/operational/ICU/development/hotspots/figures/GPM_IMERG/EAR_Watch/Pitcairn_Islands_mask_EEZ_EAR_Watch_30nbdays_to_2021-12-10.png\n",
      "/home/nicolasf/operational/ICU/development/hotspots/figures/GPM_IMERG/EAR_Watch/Pitcairn_Islands_mask_EEZ_EAR_Watch_360nbdays_to_2021-12-10.png\n",
      "/home/nicolasf/operational/ICU/development/hotspots/figures/GPM_IMERG/EAR_Watch/Pitcairn_Islands_mask_EEZ_EAR_Watch_60nbdays_to_2021-12-10.png\n",
      "/home/nicolasf/operational/ICU/development/hotspots/figures/GPM_IMERG/EAR_Watch/Pitcairn_Islands_mask_EEZ_EAR_Watch_180nbdays_to_2021-12-10.png\n",
      "copied \n",
      "/home/nicolasf/operational/ICU/development/hotspots/figures/GPM_IMERG/USDM/Pitcairn_Islands_mask_EEZ_USDM_90nbdays_to_2021-12-10.png\n",
      "/home/nicolasf/operational/ICU/development/hotspots/figures/GPM_IMERG/USDM/Pitcairn_Islands_mask_EEZ_USDM_60nbdays_to_2021-12-10.png\n",
      "/home/nicolasf/operational/ICU/development/hotspots/figures/GPM_IMERG/USDM/Pitcairn_Islands_mask_EEZ_USDM_360nbdays_to_2021-12-10.png\n",
      "/home/nicolasf/operational/ICU/development/hotspots/figures/GPM_IMERG/USDM/Pitcairn_Islands_mask_EEZ_USDM_30nbdays_to_2021-12-10.png\n",
      "/home/nicolasf/operational/ICU/development/hotspots/figures/GPM_IMERG/USDM/Pitcairn_Islands_mask_EEZ_USDM_180nbdays_to_2021-12-10.png\n",
      "copied \n",
      "\n",
      "copied \n",
      "/home/nicolasf/operational/ICU/development/hotspots/figures/GPM_IMERG/EAR_Watch/American_Samoa_mask_EEZ_EAR_Watch_60nbdays_to_2021-12-10.png\n",
      "/home/nicolasf/operational/ICU/development/hotspots/figures/GPM_IMERG/EAR_Watch/American_Samoa_mask_EEZ_EAR_Watch_30nbdays_to_2021-12-10.png\n",
      "/home/nicolasf/operational/ICU/development/hotspots/figures/GPM_IMERG/EAR_Watch/American_Samoa_mask_EEZ_EAR_Watch_360nbdays_to_2021-12-10.png\n",
      "/home/nicolasf/operational/ICU/development/hotspots/figures/GPM_IMERG/EAR_Watch/American_Samoa_mask_EEZ_EAR_Watch_180nbdays_to_2021-12-10.png\n",
      "/home/nicolasf/operational/ICU/development/hotspots/figures/GPM_IMERG/EAR_Watch/American_Samoa_mask_EEZ_EAR_Watch_90nbdays_to_2021-12-10.png\n",
      "copied \n",
      "/home/nicolasf/operational/ICU/development/hotspots/figures/GPM_IMERG/USDM/American_Samoa_mask_EEZ_USDM_60nbdays_to_2021-12-10.png\n",
      "/home/nicolasf/operational/ICU/development/hotspots/figures/GPM_IMERG/USDM/American_Samoa_mask_EEZ_USDM_360nbdays_to_2021-12-10.png\n",
      "/home/nicolasf/operational/ICU/development/hotspots/figures/GPM_IMERG/USDM/American_Samoa_mask_EEZ_USDM_180nbdays_to_2021-12-10.png\n",
      "/home/nicolasf/operational/ICU/development/hotspots/figures/GPM_IMERG/USDM/American_Samoa_mask_EEZ_USDM_90nbdays_to_2021-12-10.png\n",
      "/home/nicolasf/operational/ICU/development/hotspots/figures/GPM_IMERG/USDM/American_Samoa_mask_EEZ_USDM_30nbdays_to_2021-12-10.png\n",
      "copied \n",
      "\n",
      "copied \n",
      "/home/nicolasf/operational/ICU/development/hotspots/figures/GPM_IMERG/EAR_Watch/Northern_Marianas_mask_EEZ_EAR_Watch_360nbdays_to_2021-12-10.png\n",
      "/home/nicolasf/operational/ICU/development/hotspots/figures/GPM_IMERG/EAR_Watch/Northern_Marianas_mask_EEZ_EAR_Watch_60nbdays_to_2021-12-10.png\n",
      "/home/nicolasf/operational/ICU/development/hotspots/figures/GPM_IMERG/EAR_Watch/Northern_Marianas_mask_EEZ_EAR_Watch_30nbdays_to_2021-12-10.png\n",
      "/home/nicolasf/operational/ICU/development/hotspots/figures/GPM_IMERG/EAR_Watch/Northern_Marianas_mask_EEZ_EAR_Watch_180nbdays_to_2021-12-10.png\n",
      "/home/nicolasf/operational/ICU/development/hotspots/figures/GPM_IMERG/EAR_Watch/Northern_Marianas_mask_EEZ_EAR_Watch_90nbdays_to_2021-12-10.png\n",
      "copied \n",
      "/home/nicolasf/operational/ICU/development/hotspots/figures/GPM_IMERG/USDM/Northern_Marianas_mask_EEZ_USDM_360nbdays_to_2021-12-10.png\n",
      "/home/nicolasf/operational/ICU/development/hotspots/figures/GPM_IMERG/USDM/Northern_Marianas_mask_EEZ_USDM_30nbdays_to_2021-12-10.png\n",
      "/home/nicolasf/operational/ICU/development/hotspots/figures/GPM_IMERG/USDM/Northern_Marianas_mask_EEZ_USDM_180nbdays_to_2021-12-10.png\n",
      "/home/nicolasf/operational/ICU/development/hotspots/figures/GPM_IMERG/USDM/Northern_Marianas_mask_EEZ_USDM_90nbdays_to_2021-12-10.png\n",
      "/home/nicolasf/operational/ICU/development/hotspots/figures/GPM_IMERG/USDM/Northern_Marianas_mask_EEZ_USDM_60nbdays_to_2021-12-10.png\n",
      "copied \n",
      "\n",
      "copied \n",
      "/home/nicolasf/operational/ICU/development/hotspots/figures/GPM_IMERG/EAR_Watch/Niue_mask_EEZ_EAR_Watch_360nbdays_to_2021-12-10.png\n",
      "/home/nicolasf/operational/ICU/development/hotspots/figures/GPM_IMERG/EAR_Watch/Niue_mask_EEZ_EAR_Watch_90nbdays_to_2021-12-10.png\n",
      "/home/nicolasf/operational/ICU/development/hotspots/figures/GPM_IMERG/EAR_Watch/Niue_mask_EEZ_EAR_Watch_30nbdays_to_2021-12-10.png\n",
      "/home/nicolasf/operational/ICU/development/hotspots/figures/GPM_IMERG/EAR_Watch/Niue_mask_EEZ_EAR_Watch_180nbdays_to_2021-12-10.png\n",
      "/home/nicolasf/operational/ICU/development/hotspots/figures/GPM_IMERG/EAR_Watch/Niue_mask_EEZ_EAR_Watch_60nbdays_to_2021-12-10.png\n",
      "copied \n",
      "/home/nicolasf/operational/ICU/development/hotspots/figures/GPM_IMERG/USDM/Niue_mask_EEZ_USDM_60nbdays_to_2021-12-10.png\n",
      "/home/nicolasf/operational/ICU/development/hotspots/figures/GPM_IMERG/USDM/Niue_mask_EEZ_USDM_30nbdays_to_2021-12-10.png\n",
      "/home/nicolasf/operational/ICU/development/hotspots/figures/GPM_IMERG/USDM/Niue_mask_EEZ_USDM_90nbdays_to_2021-12-10.png\n",
      "/home/nicolasf/operational/ICU/development/hotspots/figures/GPM_IMERG/USDM/Niue_mask_EEZ_USDM_360nbdays_to_2021-12-10.png\n",
      "/home/nicolasf/operational/ICU/development/hotspots/figures/GPM_IMERG/USDM/Niue_mask_EEZ_USDM_180nbdays_to_2021-12-10.png\n",
      "copied \n",
      "\n",
      "copied \n",
      "/home/nicolasf/operational/ICU/development/hotspots/figures/GPM_IMERG/EAR_Watch/Guam_mask_EEZ_EAR_Watch_90nbdays_to_2021-12-10.png\n",
      "/home/nicolasf/operational/ICU/development/hotspots/figures/GPM_IMERG/EAR_Watch/Guam_mask_EEZ_EAR_Watch_180nbdays_to_2021-12-10.png\n",
      "/home/nicolasf/operational/ICU/development/hotspots/figures/GPM_IMERG/EAR_Watch/Guam_mask_EEZ_EAR_Watch_60nbdays_to_2021-12-10.png\n",
      "/home/nicolasf/operational/ICU/development/hotspots/figures/GPM_IMERG/EAR_Watch/Guam_mask_EEZ_EAR_Watch_360nbdays_to_2021-12-10.png\n",
      "/home/nicolasf/operational/ICU/development/hotspots/figures/GPM_IMERG/EAR_Watch/Guam_mask_EEZ_EAR_Watch_30nbdays_to_2021-12-10.png\n",
      "copied \n",
      "/home/nicolasf/operational/ICU/development/hotspots/figures/GPM_IMERG/USDM/Guam_mask_EEZ_USDM_360nbdays_to_2021-12-10.png\n",
      "/home/nicolasf/operational/ICU/development/hotspots/figures/GPM_IMERG/USDM/Guam_mask_EEZ_USDM_60nbdays_to_2021-12-10.png\n",
      "/home/nicolasf/operational/ICU/development/hotspots/figures/GPM_IMERG/USDM/Guam_mask_EEZ_USDM_30nbdays_to_2021-12-10.png\n",
      "/home/nicolasf/operational/ICU/development/hotspots/figures/GPM_IMERG/USDM/Guam_mask_EEZ_USDM_180nbdays_to_2021-12-10.png\n",
      "/home/nicolasf/operational/ICU/development/hotspots/figures/GPM_IMERG/USDM/Guam_mask_EEZ_USDM_90nbdays_to_2021-12-10.png\n",
      "copied \n",
      "\n",
      "copied \n",
      "/home/nicolasf/operational/ICU/development/hotspots/figures/GPM_IMERG/EAR_Watch/Samoa_mask_EEZ_EAR_Watch_90nbdays_to_2021-12-10.png\n",
      "/home/nicolasf/operational/ICU/development/hotspots/figures/GPM_IMERG/EAR_Watch/Samoa_mask_EEZ_EAR_Watch_180nbdays_to_2021-12-10.png\n",
      "/home/nicolasf/operational/ICU/development/hotspots/figures/GPM_IMERG/EAR_Watch/Samoa_mask_EEZ_EAR_Watch_60nbdays_to_2021-12-10.png\n",
      "/home/nicolasf/operational/ICU/development/hotspots/figures/GPM_IMERG/EAR_Watch/Samoa_mask_EEZ_EAR_Watch_30nbdays_to_2021-12-10.png\n",
      "/home/nicolasf/operational/ICU/development/hotspots/figures/GPM_IMERG/EAR_Watch/Samoa_mask_EEZ_EAR_Watch_360nbdays_to_2021-12-10.png\n",
      "copied \n",
      "/home/nicolasf/operational/ICU/development/hotspots/figures/GPM_IMERG/USDM/Samoa_mask_EEZ_USDM_60nbdays_to_2021-12-10.png\n",
      "/home/nicolasf/operational/ICU/development/hotspots/figures/GPM_IMERG/USDM/Samoa_mask_EEZ_USDM_360nbdays_to_2021-12-10.png\n",
      "/home/nicolasf/operational/ICU/development/hotspots/figures/GPM_IMERG/USDM/Samoa_mask_EEZ_USDM_30nbdays_to_2021-12-10.png\n",
      "/home/nicolasf/operational/ICU/development/hotspots/figures/GPM_IMERG/USDM/Samoa_mask_EEZ_USDM_180nbdays_to_2021-12-10.png\n",
      "/home/nicolasf/operational/ICU/development/hotspots/figures/GPM_IMERG/USDM/Samoa_mask_EEZ_USDM_90nbdays_to_2021-12-10.png\n",
      "copied \n",
      "\n",
      "copied \n",
      "/home/nicolasf/operational/ICU/development/hotspots/figures/GPM_IMERG/EAR_Watch/Federated_States_of_Micronesia_mask_EEZ_EAR_Watch_60nbdays_to_2021-12-10.png\n",
      "/home/nicolasf/operational/ICU/development/hotspots/figures/GPM_IMERG/EAR_Watch/Federated_States_of_Micronesia_mask_EEZ_EAR_Watch_90nbdays_to_2021-12-10.png\n",
      "/home/nicolasf/operational/ICU/development/hotspots/figures/GPM_IMERG/EAR_Watch/Federated_States_of_Micronesia_mask_EEZ_EAR_Watch_360nbdays_to_2021-12-10.png\n",
      "/home/nicolasf/operational/ICU/development/hotspots/figures/GPM_IMERG/EAR_Watch/Federated_States_of_Micronesia_mask_EEZ_EAR_Watch_180nbdays_to_2021-12-10.png\n",
      "/home/nicolasf/operational/ICU/development/hotspots/figures/GPM_IMERG/EAR_Watch/Federated_States_of_Micronesia_mask_EEZ_EAR_Watch_30nbdays_to_2021-12-10.png\n",
      "copied \n",
      "/home/nicolasf/operational/ICU/development/hotspots/figures/GPM_IMERG/USDM/Federated_States_of_Micronesia_mask_EEZ_USDM_360nbdays_to_2021-12-10.png\n",
      "/home/nicolasf/operational/ICU/development/hotspots/figures/GPM_IMERG/USDM/Federated_States_of_Micronesia_mask_EEZ_USDM_30nbdays_to_2021-12-10.png\n",
      "/home/nicolasf/operational/ICU/development/hotspots/figures/GPM_IMERG/USDM/Federated_States_of_Micronesia_mask_EEZ_USDM_60nbdays_to_2021-12-10.png\n",
      "/home/nicolasf/operational/ICU/development/hotspots/figures/GPM_IMERG/USDM/Federated_States_of_Micronesia_mask_EEZ_USDM_90nbdays_to_2021-12-10.png\n",
      "/home/nicolasf/operational/ICU/development/hotspots/figures/GPM_IMERG/USDM/Federated_States_of_Micronesia_mask_EEZ_USDM_180nbdays_to_2021-12-10.png\n",
      "copied \n",
      "\n",
      "copied \n",
      "/home/nicolasf/operational/ICU/development/hotspots/figures/GPM_IMERG/EAR_Watch/Nauru_mask_EEZ_EAR_Watch_60nbdays_to_2021-12-10.png\n",
      "/home/nicolasf/operational/ICU/development/hotspots/figures/GPM_IMERG/EAR_Watch/Nauru_mask_EEZ_EAR_Watch_30nbdays_to_2021-12-10.png\n",
      "/home/nicolasf/operational/ICU/development/hotspots/figures/GPM_IMERG/EAR_Watch/Nauru_mask_EEZ_EAR_Watch_180nbdays_to_2021-12-10.png\n",
      "/home/nicolasf/operational/ICU/development/hotspots/figures/GPM_IMERG/EAR_Watch/Nauru_mask_EEZ_EAR_Watch_90nbdays_to_2021-12-10.png\n",
      "/home/nicolasf/operational/ICU/development/hotspots/figures/GPM_IMERG/EAR_Watch/Nauru_mask_EEZ_EAR_Watch_360nbdays_to_2021-12-10.png\n",
      "copied \n",
      "/home/nicolasf/operational/ICU/development/hotspots/figures/GPM_IMERG/USDM/Nauru_mask_EEZ_USDM_60nbdays_to_2021-12-10.png\n",
      "/home/nicolasf/operational/ICU/development/hotspots/figures/GPM_IMERG/USDM/Nauru_mask_EEZ_USDM_90nbdays_to_2021-12-10.png\n",
      "/home/nicolasf/operational/ICU/development/hotspots/figures/GPM_IMERG/USDM/Nauru_mask_EEZ_USDM_30nbdays_to_2021-12-10.png\n",
      "/home/nicolasf/operational/ICU/development/hotspots/figures/GPM_IMERG/USDM/Nauru_mask_EEZ_USDM_180nbdays_to_2021-12-10.png\n",
      "/home/nicolasf/operational/ICU/development/hotspots/figures/GPM_IMERG/USDM/Nauru_mask_EEZ_USDM_360nbdays_to_2021-12-10.png\n",
      "copied \n",
      "\n",
      "copied \n",
      "/home/nicolasf/operational/ICU/development/hotspots/figures/GPM_IMERG/EAR_Watch/Kiribati_Phoenix_Islands_mask_EEZ_EAR_Watch_90nbdays_to_2021-12-10.png\n",
      "/home/nicolasf/operational/ICU/development/hotspots/figures/GPM_IMERG/EAR_Watch/Kiribati_Phoenix_Islands_mask_EEZ_EAR_Watch_30nbdays_to_2021-12-10.png\n",
      "/home/nicolasf/operational/ICU/development/hotspots/figures/GPM_IMERG/EAR_Watch/Kiribati_Phoenix_Islands_mask_EEZ_EAR_Watch_60nbdays_to_2021-12-10.png\n",
      "/home/nicolasf/operational/ICU/development/hotspots/figures/GPM_IMERG/EAR_Watch/Kiribati_Phoenix_Islands_mask_EEZ_EAR_Watch_180nbdays_to_2021-12-10.png\n",
      "/home/nicolasf/operational/ICU/development/hotspots/figures/GPM_IMERG/EAR_Watch/Kiribati_Phoenix_Islands_mask_EEZ_EAR_Watch_360nbdays_to_2021-12-10.png\n",
      "copied \n",
      "/home/nicolasf/operational/ICU/development/hotspots/figures/GPM_IMERG/USDM/Kiribati_Phoenix_Islands_mask_EEZ_USDM_90nbdays_to_2021-12-10.png\n",
      "/home/nicolasf/operational/ICU/development/hotspots/figures/GPM_IMERG/USDM/Kiribati_Phoenix_Islands_mask_EEZ_USDM_30nbdays_to_2021-12-10.png\n",
      "/home/nicolasf/operational/ICU/development/hotspots/figures/GPM_IMERG/USDM/Kiribati_Phoenix_Islands_mask_EEZ_USDM_180nbdays_to_2021-12-10.png\n",
      "/home/nicolasf/operational/ICU/development/hotspots/figures/GPM_IMERG/USDM/Kiribati_Phoenix_Islands_mask_EEZ_USDM_360nbdays_to_2021-12-10.png\n",
      "/home/nicolasf/operational/ICU/development/hotspots/figures/GPM_IMERG/USDM/Kiribati_Phoenix_Islands_mask_EEZ_USDM_60nbdays_to_2021-12-10.png\n",
      "copied \n",
      "\n",
      "copied \n",
      "/home/nicolasf/operational/ICU/development/hotspots/figures/GPM_IMERG/EAR_Watch/Tokelau_mask_EEZ_EAR_Watch_30nbdays_to_2021-12-10.png\n",
      "/home/nicolasf/operational/ICU/development/hotspots/figures/GPM_IMERG/EAR_Watch/Tokelau_mask_EEZ_EAR_Watch_60nbdays_to_2021-12-10.png\n",
      "/home/nicolasf/operational/ICU/development/hotspots/figures/GPM_IMERG/EAR_Watch/Tokelau_mask_EEZ_EAR_Watch_90nbdays_to_2021-12-10.png\n",
      "/home/nicolasf/operational/ICU/development/hotspots/figures/GPM_IMERG/EAR_Watch/Tokelau_mask_EEZ_EAR_Watch_180nbdays_to_2021-12-10.png\n",
      "/home/nicolasf/operational/ICU/development/hotspots/figures/GPM_IMERG/EAR_Watch/Tokelau_mask_EEZ_EAR_Watch_360nbdays_to_2021-12-10.png\n",
      "copied \n",
      "/home/nicolasf/operational/ICU/development/hotspots/figures/GPM_IMERG/USDM/Tokelau_mask_EEZ_USDM_180nbdays_to_2021-12-10.png\n",
      "/home/nicolasf/operational/ICU/development/hotspots/figures/GPM_IMERG/USDM/Tokelau_mask_EEZ_USDM_90nbdays_to_2021-12-10.png\n",
      "/home/nicolasf/operational/ICU/development/hotspots/figures/GPM_IMERG/USDM/Tokelau_mask_EEZ_USDM_360nbdays_to_2021-12-10.png\n",
      "/home/nicolasf/operational/ICU/development/hotspots/figures/GPM_IMERG/USDM/Tokelau_mask_EEZ_USDM_30nbdays_to_2021-12-10.png\n",
      "/home/nicolasf/operational/ICU/development/hotspots/figures/GPM_IMERG/USDM/Tokelau_mask_EEZ_USDM_60nbdays_to_2021-12-10.png\n",
      "copied \n",
      "\n",
      "copied \n",
      "/home/nicolasf/operational/ICU/development/hotspots/figures/GPM_IMERG/EAR_Watch/Kiribati_Gilbert_Islands_mask_EEZ_EAR_Watch_180nbdays_to_2021-12-10.png\n",
      "/home/nicolasf/operational/ICU/development/hotspots/figures/GPM_IMERG/EAR_Watch/Kiribati_Gilbert_Islands_mask_EEZ_EAR_Watch_30nbdays_to_2021-12-10.png\n",
      "/home/nicolasf/operational/ICU/development/hotspots/figures/GPM_IMERG/EAR_Watch/Kiribati_Gilbert_Islands_mask_EEZ_EAR_Watch_60nbdays_to_2021-12-10.png\n",
      "/home/nicolasf/operational/ICU/development/hotspots/figures/GPM_IMERG/EAR_Watch/Kiribati_Gilbert_Islands_mask_EEZ_EAR_Watch_360nbdays_to_2021-12-10.png\n",
      "/home/nicolasf/operational/ICU/development/hotspots/figures/GPM_IMERG/EAR_Watch/Kiribati_Gilbert_Islands_mask_EEZ_EAR_Watch_90nbdays_to_2021-12-10.png\n",
      "copied \n",
      "/home/nicolasf/operational/ICU/development/hotspots/figures/GPM_IMERG/USDM/Kiribati_Gilbert_Islands_mask_EEZ_USDM_180nbdays_to_2021-12-10.png\n",
      "/home/nicolasf/operational/ICU/development/hotspots/figures/GPM_IMERG/USDM/Kiribati_Gilbert_Islands_mask_EEZ_USDM_60nbdays_to_2021-12-10.png\n",
      "/home/nicolasf/operational/ICU/development/hotspots/figures/GPM_IMERG/USDM/Kiribati_Gilbert_Islands_mask_EEZ_USDM_30nbdays_to_2021-12-10.png\n",
      "/home/nicolasf/operational/ICU/development/hotspots/figures/GPM_IMERG/USDM/Kiribati_Gilbert_Islands_mask_EEZ_USDM_360nbdays_to_2021-12-10.png\n",
      "/home/nicolasf/operational/ICU/development/hotspots/figures/GPM_IMERG/USDM/Kiribati_Gilbert_Islands_mask_EEZ_USDM_90nbdays_to_2021-12-10.png\n",
      "copied \n",
      "\n",
      "copied \n",
      "/home/nicolasf/operational/ICU/development/hotspots/figures/GPM_IMERG/EAR_Watch/Tonga_mask_EEZ_EAR_Watch_360nbdays_to_2021-12-10.png\n",
      "/home/nicolasf/operational/ICU/development/hotspots/figures/GPM_IMERG/EAR_Watch/Tonga_mask_EEZ_EAR_Watch_60nbdays_to_2021-12-10.png\n",
      "/home/nicolasf/operational/ICU/development/hotspots/figures/GPM_IMERG/EAR_Watch/Tonga_mask_EEZ_EAR_Watch_30nbdays_to_2021-12-10.png\n",
      "/home/nicolasf/operational/ICU/development/hotspots/figures/GPM_IMERG/EAR_Watch/Tonga_mask_EEZ_EAR_Watch_90nbdays_to_2021-12-10.png\n",
      "/home/nicolasf/operational/ICU/development/hotspots/figures/GPM_IMERG/EAR_Watch/Tonga_mask_EEZ_EAR_Watch_180nbdays_to_2021-12-10.png\n",
      "copied \n",
      "/home/nicolasf/operational/ICU/development/hotspots/figures/GPM_IMERG/USDM/Tonga_mask_EEZ_USDM_60nbdays_to_2021-12-10.png\n",
      "/home/nicolasf/operational/ICU/development/hotspots/figures/GPM_IMERG/USDM/Tonga_mask_EEZ_USDM_90nbdays_to_2021-12-10.png\n",
      "/home/nicolasf/operational/ICU/development/hotspots/figures/GPM_IMERG/USDM/Tonga_mask_EEZ_USDM_30nbdays_to_2021-12-10.png\n",
      "/home/nicolasf/operational/ICU/development/hotspots/figures/GPM_IMERG/USDM/Tonga_mask_EEZ_USDM_180nbdays_to_2021-12-10.png\n",
      "/home/nicolasf/operational/ICU/development/hotspots/figures/GPM_IMERG/USDM/Tonga_mask_EEZ_USDM_360nbdays_to_2021-12-10.png\n",
      "copied \n",
      "\n",
      "copied \n",
      "/home/nicolasf/operational/ICU/development/hotspots/figures/GPM_IMERG/EAR_Watch/Marshall_Islands_mask_EEZ_EAR_Watch_90nbdays_to_2021-12-10.png\n",
      "/home/nicolasf/operational/ICU/development/hotspots/figures/GPM_IMERG/EAR_Watch/Marshall_Islands_mask_EEZ_EAR_Watch_180nbdays_to_2021-12-10.png\n",
      "/home/nicolasf/operational/ICU/development/hotspots/figures/GPM_IMERG/EAR_Watch/Marshall_Islands_mask_EEZ_EAR_Watch_60nbdays_to_2021-12-10.png\n",
      "/home/nicolasf/operational/ICU/development/hotspots/figures/GPM_IMERG/EAR_Watch/Marshall_Islands_mask_EEZ_EAR_Watch_30nbdays_to_2021-12-10.png\n",
      "/home/nicolasf/operational/ICU/development/hotspots/figures/GPM_IMERG/EAR_Watch/Marshall_Islands_mask_EEZ_EAR_Watch_360nbdays_to_2021-12-10.png\n",
      "copied \n",
      "/home/nicolasf/operational/ICU/development/hotspots/figures/GPM_IMERG/USDM/Marshall_Islands_mask_EEZ_USDM_90nbdays_to_2021-12-10.png\n",
      "/home/nicolasf/operational/ICU/development/hotspots/figures/GPM_IMERG/USDM/Marshall_Islands_mask_EEZ_USDM_180nbdays_to_2021-12-10.png\n",
      "/home/nicolasf/operational/ICU/development/hotspots/figures/GPM_IMERG/USDM/Marshall_Islands_mask_EEZ_USDM_360nbdays_to_2021-12-10.png\n",
      "/home/nicolasf/operational/ICU/development/hotspots/figures/GPM_IMERG/USDM/Marshall_Islands_mask_EEZ_USDM_30nbdays_to_2021-12-10.png\n",
      "/home/nicolasf/operational/ICU/development/hotspots/figures/GPM_IMERG/USDM/Marshall_Islands_mask_EEZ_USDM_60nbdays_to_2021-12-10.png\n"
     ]
    }
   ],
   "source": [
    "for country_name in list_countries: \n",
    "    \n",
    "    for k in ['SPI', 'EAR_Watch', 'USDM']: \n",
    "        \n",
    "        list_files = list(fig_path_GPM.joinpath(f\"{k}\").glob(f\"{country_name}_mask_EEZ_{k}*_to_{last_date:%Y-%m-%d}.png\"))\n",
    "        \n",
    "        for fname in list_files: \n",
    "\n",
    "            filename = fname.name.replace(f\"_to_{last_date:%Y-%m-%d}\", \"_latest\")\n",
    "            \n",
    "            dest_dir = CWD.parent.joinpath(f\"GPM_IMERG/{k}/{country_name}\")\n",
    "            \n",
    "            if not(dest_dir.exists()): \n",
    "                \n",
    "                dest_dir.mkdir(parents=True)\n",
    "\n",
    "            dest = dest_dir.joinpath(f\"{filename}\")\n",
    "            \n",
    "            dest.unlink(missing_ok=True)\n",
    "\n",
    "            shutil.copy(fname, dest)\n",
    "\n",
    "        print(f\"copied \\n{chr(10).join(map(str,list_files))}\")"
   ]
  },
  {
   "cell_type": "markdown",
   "id": "b0dd61b3-f436-4350-9f54-9611555ec97e",
   "metadata": {},
   "source": [
    "## updating the github repository "
   ]
  },
  {
   "cell_type": "code",
   "execution_count": 41,
   "id": "3d56b77d-0c85-4754-83df-27fa550cf85b",
   "metadata": {},
   "outputs": [],
   "source": [
    "from subprocess import call"
   ]
  },
  {
   "cell_type": "code",
   "execution_count": 42,
   "id": "b0555c7a-bdde-49a7-b231-42e8571dc41a",
   "metadata": {},
   "outputs": [],
   "source": [
    "git = shutil.which(\"git\")"
   ]
  },
  {
   "cell_type": "code",
   "execution_count": 43,
   "id": "97ae633c-1835-4a38-bcc5-f6c9a758e49b",
   "metadata": {},
   "outputs": [
    {
     "data": {
      "text/plain": [
       "'/usr/bin/git'"
      ]
     },
     "execution_count": 43,
     "metadata": {},
     "output_type": "execute_result"
    }
   ],
   "source": [
    "git"
   ]
  },
  {
   "cell_type": "code",
   "execution_count": 44,
   "id": "f3855f53-9207-46c6-be25-1ea4e6d07d81",
   "metadata": {},
   "outputs": [
    {
     "data": {
      "text/plain": [
       "'/home/nicolasf/operational/ICU_Web/GPM_IMERG'"
      ]
     },
     "execution_count": 44,
     "metadata": {},
     "output_type": "execute_result"
    }
   ],
   "source": [
    "str(CWD.parent.joinpath(\"GPM_IMERG\"))"
   ]
  },
  {
   "cell_type": "code",
   "execution_count": 45,
   "id": "2bf30144-f68c-49ac-82ca-073e37983aa9",
   "metadata": {},
   "outputs": [],
   "source": [
    "cmd = f\"{git} add {str(CWD.parent.joinpath('GPM_IMERG'))}/*\""
   ]
  },
  {
   "cell_type": "code",
   "execution_count": 46,
   "id": "13a7ac99-85a2-411c-8bb7-e550e3ad0a27",
   "metadata": {},
   "outputs": [
    {
     "data": {
      "text/plain": [
       "0"
      ]
     },
     "execution_count": 46,
     "metadata": {},
     "output_type": "execute_result"
    }
   ],
   "source": [
    "call(cmd, shell=True)"
   ]
  },
  {
   "cell_type": "code",
   "execution_count": 47,
   "id": "3b371ee2-5437-4cb1-9b66-21a3dea5ecd6",
   "metadata": {},
   "outputs": [],
   "source": [
    "cmd = f\"{git} commit -m 'updated to {last_date:%Y-%m-%d}'\""
   ]
  },
  {
   "cell_type": "code",
   "execution_count": 48,
   "id": "6cce0ff9-c892-4057-aa2a-299e3a31dbd1",
   "metadata": {},
   "outputs": [
    {
     "data": {
      "text/plain": [
       "1"
      ]
     },
     "execution_count": 48,
     "metadata": {},
     "output_type": "execute_result"
    }
   ],
   "source": [
    "call(cmd, shell=True)"
   ]
  },
  {
   "cell_type": "code",
   "execution_count": 49,
   "id": "7fb8599c-69d5-4e7d-bb84-43c19679e82a",
   "metadata": {},
   "outputs": [],
   "source": [
    "cmd = f\"{git} push\" "
   ]
  },
  {
   "cell_type": "code",
   "execution_count": 50,
   "id": "a7d073c1-5fac-4fcf-9cc8-2766086c1293",
   "metadata": {},
   "outputs": [
    {
     "data": {
      "text/plain": [
       "0"
      ]
     },
     "execution_count": 50,
     "metadata": {},
     "output_type": "execute_result"
    }
   ],
   "source": [
    "call(cmd, shell=True)"
   ]
  },
  {
   "cell_type": "code",
   "execution_count": null,
   "id": "91d0feb1-f618-4385-b83f-3d6248d7fafd",
   "metadata": {},
   "outputs": [],
   "source": []
  },
  {
   "cell_type": "code",
   "execution_count": null,
   "id": "c8c7b10d-3988-4216-a32f-83a4f8599e8d",
   "metadata": {},
   "outputs": [],
   "source": []
  }
 ],
 "metadata": {
  "kernelspec": {
   "display_name": "Python 3",
   "language": "python",
   "name": "python3"
  },
  "language_info": {
   "codemirror_mode": {
    "name": "ipython",
    "version": 3
   },
   "file_extension": ".py",
   "mimetype": "text/x-python",
   "name": "python",
   "nbconvert_exporter": "python",
   "pygments_lexer": "ipython3",
   "version": "3.8.10"
  }
 },
 "nbformat": 4,
 "nbformat_minor": 5
}
